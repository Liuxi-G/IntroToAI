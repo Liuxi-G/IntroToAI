{
 "cells": [
  {
   "cell_type": "code",
   "execution_count": 41,
   "metadata": {
    "collapsed": false
   },
   "outputs": [
    {
     "name": "stdout",
     "output_type": "stream",
     "text": [
      "Prix maison mise en vente :  160000\n",
      "Offre d achat : 152000, ie baisse de 5.00 pourcents\n",
      "Frais Agence : 8578\n",
      "Prix Maison FAI : 160578\n",
      "Notaire (estim haute 8 pourcents) : 12160\n",
      "Travaux : 8000\n",
      "Apport : 9000\n",
      "Total à emprunter (sans les interets et assurances) : 171738\n"
     ]
    }
   ],
   "source": [
    "prix_init = 160000\n",
    "nego = 0.05\n",
    "prix_base = prix_init*(1-nego )\n",
    "frais_ag = 8578\n",
    "frais_not = 0.08*prix_base\n",
    "travaux = 8000\n",
    "apport = 9000\n",
    "\n",
    "total_emprunt_brut = prix_base + frais_ag+frais_not+travaux-apport\n",
    "\n",
    "print('Prix maison mise en vente :  %d' % prix_init)\n",
    "print('Offre d achat : %d, ie baisse de %0.2f pourcents'% (prix_base,100*nego))\n",
    "print('Frais Agence : %d' % frais_ag)\n",
    "print('Prix Maison FAI : %d' % (frais_ag+prix_base))\n",
    "\n",
    "print('Notaire (estim haute 8 pourcents) : %d' % frais_not)\n",
    "print('Travaux : %d' % travaux)\n",
    "print('Apport : %d' % apport)\n",
    "print('Total à emprunter (sans les interets et assurances) : %d' % (total_emprunt_brut))"
   ]
  },
  {
   "cell_type": "markdown",
   "metadata": {},
   "source": [
    "Estimation de crédits : Je peux emprunter 180000 sur 20 ans avec des mensualités de 900 à 1000 euros (pret à 1.5% avec une assurance a 0.3%)"
   ]
  }
 ],
 "metadata": {
  "kernelspec": {
   "display_name": "Python 3",
   "language": "python",
   "name": "python3"
  },
  "language_info": {
   "codemirror_mode": {
    "name": "ipython",
    "version": 3
   },
   "file_extension": ".py",
   "mimetype": "text/x-python",
   "name": "python",
   "nbconvert_exporter": "python",
   "pygments_lexer": "ipython3",
   "version": "3.6.1"
  }
 },
 "nbformat": 4,
 "nbformat_minor": 2
}
