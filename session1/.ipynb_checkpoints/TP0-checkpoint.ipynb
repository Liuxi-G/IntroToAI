{
 "cells": [
  {
   "cell_type": "markdown",
   "metadata": {
    "deletable": true,
    "editable": true
   },
   "source": [
    "Introduction to Artificial Intelligence - Lab Session 0 - April 4th 2018 \n",
    "--\n",
    "\n",
    "At the end of this session, you will be able to : \n",
    "- Create and manage the Jupyter Notebooks environment to run code, insert text and math equations\n",
    "- Perform basic matrix manipulations using Numpy \n",
    "- Create signals and perform basic scientific computing using Scipy and Numpy\n",
    "- Produce simple data visulisation using Matplotlib \n",
    "- Open, manipulate and visualize the PyRat datasets used in the course "
   ]
  },
  {
   "cell_type": "markdown",
   "metadata": {
    "deletable": true,
    "editable": true
   },
   "source": [
    "Part 1 - Intro to Jupyter Notebook\n",
    "--\n",
    "Here, we will only cover the basics. You can find here a [more thorough tutorial](ici).\n",
    "\n",
    "Jupyter Notebook is based on the .ipynb format (iPython Notebook), and is essentially a way to do rapid prototyping / demonstrations of scientific python. The basic idea is to define *cells*. \n",
    "Cellss can be of several types, including python code, or rich text (using [markdown formatting](link to md)).\n",
    "\n",
    "When a code cell is evaluated (i.e. the python code will be executed), the output of this evaluation will show up right below the cell. \n",
    "\n",
    "When a text cell is evaluated, the text will be formatted. \n",
    "\n",
    "You can now do the \"User Interface Tour\" from the Help menu. "
   ]
  },
  {
   "cell_type": "markdown",
   "metadata": {
    "deletable": true,
    "editable": true
   },
   "source": [
    "Done ? \n",
    "\n",
    "When working with Jupyter Notebook, you will essentially switch between two modes : \n",
    "- The Edit mode in which you edit the content of the cells \n",
    "- The Command mode, that enables you to change the cell types. \n",
    "\n",
    "When in Command mode, you can select cells. If you select a single cell, you can edit it by simply pressing enter, or double clicking on it. "
   ]
  },
  {
   "cell_type": "markdown",
   "metadata": {
    "deletable": true,
    "editable": true
   },
   "source": [
    "For example, try editing THIS CELL and change its content. "
   ]
  },
  {
   "cell_type": "markdown",
   "metadata": {
    "deletable": true,
    "editable": true
   },
   "source": [
    "Now, edit the cell below, change the code, and when you're done, press Shift+Enter to evalute the code. "
   ]
  },
  {
   "cell_type": "code",
   "execution_count": 43,
   "metadata": {
    "collapsed": false,
    "deletable": true,
    "editable": true
   },
   "outputs": [
    {
     "name": "stdout",
     "output_type": "stream",
     "text": [
      "32 + 64\n"
     ]
    }
   ],
   "source": [
    "### CELL TO BE EDITED\n",
    "\n",
    "\n",
    "a=32\n",
    "b= 2*a\n",
    "print(\"%d + %d\"%(a,b))"
   ]
  },
  {
   "cell_type": "markdown",
   "metadata": {
    "deletable": true,
    "editable": true
   },
   "source": [
    "Text cells can contain math expressions that use the Markdown formatting, in which you can use LaTEx expressions for maths (enclosed between two dollar signs). \n",
    "\n",
    "For example : $A(k) \\triangleq \\sum_{\\mathbf{n} =1}^{k}{n^2}$\n",
    "\n",
    "Now : \n",
    "- Edit the current cell to show the code that displays the math expression,\n",
    "- Create a code cell below that defines a function that calculates $A(k)$ given k, and evaluate this cell,\n",
    "- Create another cell and use the function to display $A(k)$ for a few values of $\\mathbf{k}$ (eg 10 and 20)."
   ]
  },
  {
   "cell_type": "code",
   "execution_count": 72,
   "metadata": {
    "collapsed": true,
    "deletable": true,
    "editable": true
   },
   "outputs": [],
   "source": [
    "### CELL TO BE COMPLETED \n",
    "\n",
    "def A(k):\n",
    "    result = 1\n",
    "    if k>1:\n",
    "        for n in range(1,k):\n",
    "            result += n**2\n",
    "    return result"
   ]
  },
  {
   "cell_type": "code",
   "execution_count": 5,
   "metadata": {
    "collapsed": false,
    "deletable": true,
    "editable": true
   },
   "outputs": [
    {
     "name": "stdout",
     "output_type": "stream",
     "text": [
      "1\n",
      "2\n",
      "6\n",
      "15\n",
      "31\n",
      "56\n",
      "92\n",
      "141\n",
      "205\n"
     ]
    }
   ],
   "source": [
    "### CELL TO BE COMPLETED \n",
    "\n",
    "for i in range(1,10):\n",
    "    print(A(i))"
   ]
  },
  {
   "cell_type": "markdown",
   "metadata": {},
   "source": [
    "To do : example exercice below "
   ]
  },
  {
   "cell_type": "code",
   "execution_count": 68,
   "metadata": {
    "collapsed": false
   },
   "outputs": [
    {
     "name": "stdout",
     "output_type": "stream",
     "text": [
      "1\n",
      "2\n",
      "6\n",
      "15\n",
      "31\n",
      "56\n",
      "92\n",
      "141\n",
      "205\n"
     ]
    }
   ],
   "source": [
    "for i in range(1,10):\n",
    "    a = np.sum(np.power(np.arange(i),2))+1\n",
    "    print(a)"
   ]
  },
  {
   "cell_type": "markdown",
   "metadata": {},
   "source": [
    "Note that using Jupyter Notebook, if you evaluate a cell with a function followed by a \"?\" sign, the help of the function will pop up. \n",
    "\n",
    "Example : "
   ]
  },
  {
   "cell_type": "code",
   "execution_count": 70,
   "metadata": {
    "collapsed": true
   },
   "outputs": [],
   "source": [
    "import os\n",
    "\n",
    "os.listdir?"
   ]
  },
  {
   "cell_type": "markdown",
   "metadata": {},
   "source": [
    "You can also display the code of a function using the syntax \"??\" "
   ]
  },
  {
   "cell_type": "code",
   "execution_count": 78,
   "metadata": {
    "collapsed": true
   },
   "outputs": [],
   "source": [
    "A??"
   ]
  },
  {
   "cell_type": "markdown",
   "metadata": {},
   "source": [
    "The popup can be closed by pressing the Escape key. \n",
    "\n",
    "Use the listdir function to browse the content of some directories... \n"
   ]
  },
  {
   "cell_type": "code",
   "execution_count": 59,
   "metadata": {
    "collapsed": false
   },
   "outputs": [
    {
     "data": {
      "text/plain": [
       "['p0',\n",
       " 'cours6',\n",
       " 'qcms',\n",
       " 'p2',\n",
       " 'tp3',\n",
       " 'README',\n",
       " 'poster',\n",
       " 'p1',\n",
       " 'tp1',\n",
       " 'cours5',\n",
       " 'fiche_evaluation',\n",
       " 'cours4',\n",
       " 'cours3',\n",
       " 'cours1',\n",
       " 'tp0',\n",
       " '.svn',\n",
       " 'challenge',\n",
       " 'cours2',\n",
       " 'tp2',\n",
       " 'selfeval_pre.csv',\n",
       " 'templateCours',\n",
       " 'tp4',\n",
       " 'logoimt.png']"
      ]
     },
     "execution_count": 59,
     "metadata": {},
     "output_type": "execute_result"
    }
   ],
   "source": [
    "### CELL TO BE COMPLETED \n",
    "os.listdir('../')"
   ]
  },
  {
   "cell_type": "markdown",
   "metadata": {
    "deletable": true,
    "editable": true
   },
   "source": [
    "Part 2 - Introduction to Numpy, Scipy and Matplotlib \n",
    "--"
   ]
  },
  {
   "cell_type": "markdown",
   "metadata": {
    "deletable": true,
    "editable": true
   },
   "source": [
    "A code cell can contain any python code, including imports. Let's start by importing the Numpy package. "
   ]
  },
  {
   "cell_type": "code",
   "execution_count": 6,
   "metadata": {
    "collapsed": true,
    "deletable": true,
    "editable": true
   },
   "outputs": [],
   "source": [
    "import numpy as np"
   ]
  },
  {
   "cell_type": "markdown",
   "metadata": {
    "deletable": true,
    "editable": true
   },
   "source": [
    "Numpy can be used to generate pseudo-random values from various distributions. In particular, a very useful distribution is the standard normal (zero mean and unit variance). Let's generate two vectors sampled from the normal distribution, using a length parameter that we'll be able to change if needed. "
   ]
  },
  {
   "cell_type": "code",
   "execution_count": 22,
   "metadata": {
    "collapsed": true,
    "deletable": true,
    "editable": true
   },
   "outputs": [],
   "source": [
    "length = 50\n",
    "\n",
    "vecA = np.random.randn(length)\n",
    "vecB = np.random.randn(2*length)"
   ]
  },
  {
   "cell_type": "markdown",
   "metadata": {
    "deletable": true,
    "editable": true
   },
   "source": [
    "vecA and vecB are numpy *arrays*. One of their attributes can be fetched to check their *shape*"
   ]
  },
  {
   "cell_type": "code",
   "execution_count": 23,
   "metadata": {
    "collapsed": false,
    "deletable": true,
    "editable": true
   },
   "outputs": [
    {
     "name": "stdout",
     "output_type": "stream",
     "text": [
      "(50,)\n",
      "(100,)\n"
     ]
    }
   ],
   "source": [
    "print(vecA.shape)\n",
    "print(vecB.shape)"
   ]
  },
  {
   "cell_type": "code",
   "execution_count": 25,
   "metadata": {
    "collapsed": false
   },
   "outputs": [
    {
     "name": "stdout",
     "output_type": "stream",
     "text": [
      "[ 1.08016084 -2.67994881 -0.58498666 -1.5532861  -1.11106067 -0.19533716\n",
      "  0.10891049 -1.21101497  0.51390922  1.27266245 -0.28776096 -0.75575449\n",
      "  0.88366155 -1.19690312 -0.0127312   1.0905736  -1.95587107 -1.9111383\n",
      " -1.07982873 -2.3889084  -0.49689527  0.72921105 -0.17064313 -0.18017942\n",
      " -0.94117528 -0.78971347  0.20490882 -0.76541119  1.01927544  0.83873244\n",
      " -1.6987616  -0.51779959  1.0396586   0.02281937  0.6312301  -1.27743795\n",
      "  0.81420327  0.83023868  0.86982179 -1.80518213 -1.12089991  0.99527046\n",
      "  0.02635498  1.71269665 -0.79045502  0.52051775 -0.44420626 -1.06395188\n",
      " -1.12640356  0.28399535]\n"
     ]
    }
   ],
   "source": [
    "print(vecA)"
   ]
  },
  {
   "cell_type": "markdown",
   "metadata": {
    "deletable": true,
    "editable": true
   },
   "source": [
    "Numpy arrays can be vectors as well as matrices, or any tensor. For example the following code will create tensors with 3 dimensions using the standard normal"
   ]
  },
  {
   "cell_type": "code",
   "execution_count": 9,
   "metadata": {
    "collapsed": false,
    "deletable": true,
    "editable": true
   },
   "outputs": [
    {
     "name": "stdout",
     "output_type": "stream",
     "text": [
      "(3, 500, 4)\n"
     ]
    }
   ],
   "source": [
    "arrayC = np.random.randn(3,500,4)\n",
    "print(arrayC.shape)"
   ]
  },
  {
   "cell_type": "markdown",
   "metadata": {},
   "source": [
    "Note that the random package of Numpy has several other interesting functions. Try to test the two functions proposed in the cell below. \n",
    "\n",
    "Try uncommenting the two functions below one by one, look up their help page, and try to use them. "
   ]
  },
  {
   "cell_type": "code",
   "execution_count": 26,
   "metadata": {
    "collapsed": true
   },
   "outputs": [],
   "source": [
    "### CELL TO BE COMPLETED \n",
    "\n",
    "#np.random.randint\n",
    "#np.random.permutation"
   ]
  },
  {
   "cell_type": "markdown",
   "metadata": {},
   "source": [
    "A very important features of arrays is the fact they can be used as *iterables*. For example, you can iterate over the dimensions of an array by simply \"looping\" over it using a *for* loop"
   ]
  },
  {
   "cell_type": "code",
   "execution_count": 10,
   "metadata": {
    "collapsed": false
   },
   "outputs": [
    {
     "name": "stdout",
     "output_type": "stream",
     "text": [
      "(500, 4)\n",
      "(500, 4)\n",
      "(500, 4)\n"
     ]
    }
   ],
   "source": [
    "for curdim in arrayC:\n",
    "    print(curdim.shape)"
   ]
  },
  {
   "cell_type": "markdown",
   "metadata": {},
   "source": [
    "Also possible to enumerate along the dimension in order to get the index of the current \"smaller\" array\n"
   ]
  },
  {
   "cell_type": "code",
   "execution_count": 27,
   "metadata": {
    "collapsed": false
   },
   "outputs": [
    {
     "name": "stdout",
     "output_type": "stream",
     "text": [
      "Initial shape is 3 500 4\n",
      "Iterating over the first dimension using an index k\n",
      "k = 0, shape is 500 4\n",
      "k = 1, shape is 500 4\n",
      "k = 2, shape is 500 4\n"
     ]
    }
   ],
   "source": [
    "print('Initial shape is %d %d %d' % (arrayC.shape[0],arrayC.shape[1],arrayC.shape[2]))\n",
    "print('Iterating over the first dimension using an index k')\n",
    "for k,curdim in enumerate(arrayC):\n",
    "    print('k = %d, shape is %d %d' % (k,curdim.shape[0],curdim.shape[1]))"
   ]
  },
  {
   "cell_type": "markdown",
   "metadata": {},
   "source": [
    "Use the previous principle in order to calculate the average of each 500x4 subvector, using the function np.mean()"
   ]
  },
  {
   "cell_type": "code",
   "execution_count": 42,
   "metadata": {
    "collapsed": false
   },
   "outputs": [
    {
     "name": "stdout",
     "output_type": "stream",
     "text": [
      "-0.003826666700797344\n",
      "-0.0017436354161205348\n",
      "-0.014333421869215393\n"
     ]
    }
   ],
   "source": [
    "### CELL TO BE COMPLETED \n",
    "\n",
    "\n",
    "for k,curdim in enumerate(arrayC):\n",
    "    print(np.mean(curdim))"
   ]
  },
  {
   "cell_type": "markdown",
   "metadata": {},
   "source": [
    "CHeck that you obtain the same result when directly computing the average over the two axis 1 and 2 (look up the arguments of np.mean) "
   ]
  },
  {
   "cell_type": "code",
   "execution_count": 40,
   "metadata": {
    "collapsed": false
   },
   "outputs": [
    {
     "data": {
      "text/plain": [
       "array([-0.00382667, -0.00174364, -0.01433342])"
      ]
     },
     "execution_count": 40,
     "metadata": {},
     "output_type": "execute_result"
    }
   ],
   "source": [
    "### CELL TO BE COMPLETED \n",
    "\n",
    "np.mean(arrayC,axis = (1,2))"
   ]
  },
  {
   "cell_type": "markdown",
   "metadata": {},
   "source": [
    "These features will prove to be very useful when manipulate large arrays. "
   ]
  },
  {
   "cell_type": "markdown",
   "metadata": {},
   "source": [
    "Another important operation when working with Numpy Arrays is *reshaping*. Essentially, *reshaping* consists in changing the organisation of the array (in terms of dimension), while keeping the same number of elements. For example, a 20x10 2D array can be converted into a 4x5x10 array"
   ]
  },
  {
   "cell_type": "code",
   "execution_count": 20,
   "metadata": {
    "collapsed": false
   },
   "outputs": [
    {
     "name": "stdout",
     "output_type": "stream",
     "text": [
      "Initial shape of A is 10 x 20\n",
      "[[2 2 4 1 3 4 1 3 2 2 2 3 3 1 4 1 4 3 3 3]\n",
      " [3 1 2 4 2 2 3 4 1 1 1 1 4 1 1 2 1 4 4 1]\n",
      " [1 2 2 3 4 2 1 3 2 4 1 1 3 3 4 2 1 1 4 1]\n",
      " [1 1 3 1 2 1 2 2 4 1 4 1 2 2 2 4 1 3 4 4]\n",
      " [4 4 3 3 1 3 1 1 2 4 2 3 4 3 4 3 3 1 2 4]\n",
      " [1 4 3 1 1 1 1 4 2 2 1 4 2 3 4 1 3 4 4 1]\n",
      " [1 2 1 4 1 1 4 4 3 3 1 4 2 2 1 2 1 3 3 2]\n",
      " [3 3 4 2 3 4 4 4 2 3 3 4 4 1 2 1 3 4 1 3]\n",
      " [4 3 3 2 4 2 2 2 4 2 1 3 4 1 3 4 3 2 4 2]\n",
      " [4 4 2 4 1 4 4 4 2 4 1 2 2 3 2 3 3 4 4 4]]\n",
      "B is A reshaped to 4 x 5 x 10\n",
      "[[[2 2 4 1 3 4 1 3 2 2]\n",
      "  [2 3 3 1 4 1 4 3 3 3]\n",
      "  [3 1 2 4 2 2 3 4 1 1]\n",
      "  [1 1 4 1 1 2 1 4 4 1]\n",
      "  [1 2 2 3 4 2 1 3 2 4]]\n",
      "\n",
      " [[1 1 3 3 4 2 1 1 4 1]\n",
      "  [1 1 3 1 2 1 2 2 4 1]\n",
      "  [4 1 2 2 2 4 1 3 4 4]\n",
      "  [4 4 3 3 1 3 1 1 2 4]\n",
      "  [2 3 4 3 4 3 3 1 2 4]]\n",
      "\n",
      " [[1 4 3 1 1 1 1 4 2 2]\n",
      "  [1 4 2 3 4 1 3 4 4 1]\n",
      "  [1 2 1 4 1 1 4 4 3 3]\n",
      "  [1 4 2 2 1 2 1 3 3 2]\n",
      "  [3 3 4 2 3 4 4 4 2 3]]\n",
      "\n",
      " [[3 4 4 1 2 1 3 4 1 3]\n",
      "  [4 3 3 2 4 2 2 2 4 2]\n",
      "  [1 3 4 1 3 4 3 2 4 2]\n",
      "  [4 4 2 4 1 4 4 4 2 4]\n",
      "  [1 2 2 3 2 3 3 4 4 4]]]\n"
     ]
    }
   ],
   "source": [
    "A = np.random.randint(1,5,(10,20))\n",
    "print('Initial shape of A is %d x %d' % (A.shape[0],A.shape[1]))\n",
    "print(A)\n",
    "B = A.reshape((4,5,10))\n",
    "print('B is A reshaped to %d x %d x %d' % (B.shape[0],B.shape[1],B.shape[2]))\n",
    "print(B)"
   ]
  },
  {
   "cell_type": "code",
   "execution_count": null,
   "metadata": {
    "collapsed": true
   },
   "outputs": [],
   "source": []
  },
  {
   "cell_type": "code",
   "execution_count": null,
   "metadata": {
    "collapsed": true
   },
   "outputs": [],
   "source": []
  },
  {
   "cell_type": "code",
   "execution_count": null,
   "metadata": {
    "collapsed": true
   },
   "outputs": [],
   "source": []
  },
  {
   "cell_type": "code",
   "execution_count": null,
   "metadata": {
    "collapsed": true
   },
   "outputs": [],
   "source": []
  },
  {
   "cell_type": "markdown",
   "metadata": {
    "deletable": true,
    "editable": true
   },
   "source": [
    "Part 3 - Application to PyRat Datasets\n",
    "--"
   ]
  },
  {
   "cell_type": "code",
   "execution_count": null,
   "metadata": {
    "collapsed": true,
    "deletable": true,
    "editable": true
   },
   "outputs": [],
   "source": []
  }
 ],
 "metadata": {
  "kernelspec": {
   "display_name": "Python 3",
   "language": "python",
   "name": "python3"
  },
  "language_info": {
   "codemirror_mode": {
    "name": "ipython",
    "version": 3
   },
   "file_extension": ".py",
   "mimetype": "text/x-python",
   "name": "python",
   "nbconvert_exporter": "python",
   "pygments_lexer": "ipython3",
   "version": "3.6.1"
  }
 },
 "nbformat": 4,
 "nbformat_minor": 2
}
